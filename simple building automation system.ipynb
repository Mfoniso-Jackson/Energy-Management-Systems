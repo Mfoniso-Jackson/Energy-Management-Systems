{
 "cells": [
  {
   "cell_type": "markdown",
   "metadata": {},
   "source": [
    "This code demonstrates a simple example of a building automation system that uses a linear regression machine learning model to optimize HVAC, lighting, and other building systems by predicting energy consumption based on real-time environmental factors such as temperature, light level, and occupancy. It uses the pandas library to load and preprocess the data, the numpy library for mathematical calculations, and the scikit-learn library to train and evaluate the machine learning model.\n",
    "\n",
    "It's important to note that this is just a simple example and a real-world building automation system would likely be more complex and have additional functionality, such as data cleaning, data preprocessing, handling missing data and errors, and integration with other building systems and real-time data sources. Additionally, the choice of machine learning algorithm will depend on the specific requirements and characteristics of the energy consumption data and the desired level of accuracy for the energy consumption predictions."
   ]
  },
  {
   "cell_type": "code",
   "execution_count": null,
   "metadata": {},
   "outputs": [],
   "source": [
    "import pandas as pd\n",
    "import numpy as np\n",
    "from sklearn.model_selection import train_test_split\n",
    "from sklearn.linear_model import LinearRegression\n",
    "from sklearn.metrics import mean_squared_error\n",
    "\n",
    "# Load energy consumption data\n",
    "consumption_data = pd.read_csv('consumption_data.csv')\n",
    "\n",
    "# Preprocess the data\n",
    "features = ['temperature', 'light_level', 'occupancy']\n",
    "target = 'consumption'\n",
    "\n",
    "# Split the data into training and test sets\n",
    "train_data, test_data = train_test_split(consumption_data, test_size=0.2)\n",
    "\n",
    "# Train a linear regression model on the training data\n",
    "model = LinearRegression()\n",
    "model.fit(train_data[features], train_data[target])\n",
    "\n",
    "# Use the model to make predictions on the test data\n",
    "predictions = model.predict(test_data[features])\n",
    "\n",
    "# Calculate the mean squared error of the predictions\n",
    "mse = mean_squared_error(test_data[target], predictions)\n",
    "print(f'Mean Squared Error: {mse:.2f}')\n",
    "\n",
    "# Use the model to make predictions in real-time\n",
    "while True:\n",
    "    temperature = input('Enter temperature: ')\n",
    "    light_level = input('Enter light level: ')\n",
    "    occupancy = input('Enter occupancy (0 or 1): ')\n",
    "    prediction = model.predict([[temperature, light_level, occupancy]])\n",
    "    print(f'Predicted energy consumption: {prediction[0]:.2f}')\n"
   ]
  }
 ],
 "metadata": {
  "kernelspec": {
   "display_name": "Python 3",
   "language": "python",
   "name": "python3"
  },
  "language_info": {
   "codemirror_mode": {
    "name": "ipython",
    "version": 3
   },
   "file_extension": ".py",
   "mimetype": "text/x-python",
   "name": "python",
   "nbconvert_exporter": "python",
   "pygments_lexer": "ipython3",
   "version": "3.8.3"
  }
 },
 "nbformat": 4,
 "nbformat_minor": 4
}
